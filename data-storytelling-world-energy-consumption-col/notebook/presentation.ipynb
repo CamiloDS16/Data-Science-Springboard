{
 "cells": [
  {
   "attachments": {},
   "cell_type": "markdown",
   "metadata": {},
   "source": [
    "### **Colombia's Electricity Production Evolution And Recent Challenges** \n",
    "\n",
    "\n",
    "The energy sector in Colombia has always been a priority in the country's agenda as one of the development and GDP drivers in Colombia's recent history. It is known that Colombia'S natural resources are abundant and throughout its history its become dependent of primary resources such as fossil fuels due to lack of industrialized agriculture (20% of Colombia's income and almost 50% of exports).   \n",
    "\n",
    "Colombia has gone under a change of politics that is both threatening and boosting the probability of reaching its transition goal to clean energy and becoming net-zero emitter of greenhouse gasses by 2050. Colombia's new president has sustainability at the top of his agenda. However, concerns of the global enviromental community are increasing after Colombia's President announced a stop of fossil fuels. Below, we will look at trends of Colombia's renewable and non-renewable sources of energy from 2000 to 2020, with the following questions in mind. Also, I've performed the same visualizations for South America and Colombia. \n",
    "\n",
    "- Are there any specific trends or anomalies in the renewable electricity production in South America and Colombia?\n",
    "- How does the renewable electricity production correlate with Colombia and South America's GDP over the years?\n",
    "- What types of renewable energy are most utilized in South America, and in Colombia specifically? \n",
    "- How does the renewable electricity production in Colombia compare to the rest of South America?\n",
    "- How has the total renewable electricity production changed over time in South America?\n",
    "\n",
    "\n",
    "#### Let's take a look at South America energy production from renewable and non-renewable resources:\n",
    "![My Visualization1](../visualizations/renewable_nonren_sa.jpg)\n",
    "![My Visualization](../visualizations/elec_prod_barch.jpg)\n",
    "\n",
    "#### Colombia electricity production by source:\n",
    "![My Visualization7](../visualizations/energy_sources_col.jpg)\n",
    "\n",
    "#### Colombia's evolution of electricity production from 2000 to 2020:\n",
    "![My Visualization2](../visualizations/energy_production_col.jpg)\n",
    "\n",
    "#### South America correlation between GDP and Electricity Production: \n",
    "![My Visualizatio3n](../visualizations/gdp_vs_elec_scatterplot.jpg)\n",
    "\n",
    "#### Colombia's GDP and Non-Renewable Energy Production over two decades:\n",
    "![My Visualization4](../visualizations/gdp_nonren_col.jpg)\n",
    "\n",
    "#### Colombia's expansion in renewable energy production:\n",
    "![My Visualization5](../visualizations/gdp_ren_energy_col.jpg)\n",
    "\n",
    "#### Distribution of Energy Production by sources in Colombia: \n",
    "![My Visualization6](../visualizations/energy_sources_col.jpg)\n",
    "\n"
   ]
  }
 ],
 "metadata": {
  "language_info": {
   "name": "python"
  },
  "orig_nbformat": 4
 },
 "nbformat": 4,
 "nbformat_minor": 2
}
